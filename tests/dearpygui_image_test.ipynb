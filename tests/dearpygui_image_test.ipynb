{
 "cells": [
  {
   "cell_type": "code",
   "execution_count": 1,
   "metadata": {},
   "outputs": [
    {
     "ename": "AttributeError",
     "evalue": "module 'dearpygui.dearpygui' has no attribute 'add_texture'",
     "output_type": "error",
     "traceback": [
      "\u001b[1;31m---------------------------------------------------------------------------\u001b[0m",
      "\u001b[1;31mAttributeError\u001b[0m                            Traceback (most recent call last)",
      "Cell \u001b[1;32mIn[1], line 6\u001b[0m\n\u001b[0;32m      4\u001b[0m \u001b[39m# Create three textures with initial data\u001b[39;00m\n\u001b[0;32m      5\u001b[0m texture_data \u001b[39m=\u001b[39m np\u001b[39m.\u001b[39mrandom\u001b[39m.\u001b[39mrandint(\u001b[39m0\u001b[39m, \u001b[39m255\u001b[39m, (\u001b[39m100\u001b[39m, \u001b[39m100\u001b[39m, \u001b[39m3\u001b[39m), np\u001b[39m.\u001b[39muint8)\n\u001b[1;32m----> 6\u001b[0m texture_ids \u001b[39m=\u001b[39m [dpg\u001b[39m.\u001b[39;49madd_texture(texture_data) \u001b[39mfor\u001b[39;49;00m _ \u001b[39min\u001b[39;49;00m \u001b[39mrange\u001b[39;49m(\u001b[39m3\u001b[39;49m)]\n\u001b[0;32m      8\u001b[0m \u001b[39mdef\u001b[39;00m \u001b[39mupdate_textures\u001b[39m(sender, app_data):\n\u001b[0;32m      9\u001b[0m     \u001b[39m# Update each texture with new random data\u001b[39;00m\n\u001b[0;32m     10\u001b[0m     \u001b[39mfor\u001b[39;00m texture_id \u001b[39min\u001b[39;00m texture_ids:\n",
      "Cell \u001b[1;32mIn[1], line 6\u001b[0m, in \u001b[0;36m<listcomp>\u001b[1;34m(.0)\u001b[0m\n\u001b[0;32m      4\u001b[0m \u001b[39m# Create three textures with initial data\u001b[39;00m\n\u001b[0;32m      5\u001b[0m texture_data \u001b[39m=\u001b[39m np\u001b[39m.\u001b[39mrandom\u001b[39m.\u001b[39mrandint(\u001b[39m0\u001b[39m, \u001b[39m255\u001b[39m, (\u001b[39m100\u001b[39m, \u001b[39m100\u001b[39m, \u001b[39m3\u001b[39m), np\u001b[39m.\u001b[39muint8)\n\u001b[1;32m----> 6\u001b[0m texture_ids \u001b[39m=\u001b[39m [dpg\u001b[39m.\u001b[39;49madd_texture(texture_data) \u001b[39mfor\u001b[39;00m _ \u001b[39min\u001b[39;00m \u001b[39mrange\u001b[39m(\u001b[39m3\u001b[39m)]\n\u001b[0;32m      8\u001b[0m \u001b[39mdef\u001b[39;00m \u001b[39mupdate_textures\u001b[39m(sender, app_data):\n\u001b[0;32m      9\u001b[0m     \u001b[39m# Update each texture with new random data\u001b[39;00m\n\u001b[0;32m     10\u001b[0m     \u001b[39mfor\u001b[39;00m texture_id \u001b[39min\u001b[39;00m texture_ids:\n",
      "\u001b[1;31mAttributeError\u001b[0m: module 'dearpygui.dearpygui' has no attribute 'add_texture'"
     ]
    }
   ],
   "source": [
    "import dearpygui.dearpygui as dpg\n",
    "import numpy as np\n",
    "\n",
    "# Create three textures with initial data\n",
    "texture_data = np.random.randint(0, 255, (100, 100, 3), np.uint8)\n",
    "texture_ids = [dpg.add_texture(texture_data) for _ in range(3)]\n",
    "\n",
    "def update_textures(sender, app_data):\n",
    "    # Update each texture with new random data\n",
    "    for texture_id in texture_ids:\n",
    "        new_data = np.random.randint(0, 255, (100, 100, 3), np.uint8)\n",
    "        dpg.modify_texture(texture_id, data=new_data)\n",
    "\n",
    "with dpg.handler_registry():\n",
    "    @dpg.handler(dpg.mvEvent_Render)\n",
    "    def on_render(sender, app_data):\n",
    "        update_textures(sender, app_data)\n",
    "\n",
    "with dpg.window(label=\"Image Textures\"):\n",
    "    for texture_id in texture_ids:\n",
    "        dpg.add_image(texture_id)\n",
    "\n",
    "# Start the DearPyGUI event loop\n",
    "dpg.create_context()\n",
    "dpg.create_viewport(title='Image Textures', width=640, height=480)\n",
    "dpg.setup_dearpygui()\n",
    "dpg.show_viewport()\n",
    "dpg.start_dearpygui()\n",
    "dpg.destroy_context()\n"
   ]
  },
  {
   "cell_type": "code",
   "execution_count": null,
   "metadata": {},
   "outputs": [],
   "source": []
  }
 ],
 "metadata": {
  "kernelspec": {
   "display_name": "Python 3",
   "language": "python",
   "name": "python3"
  },
  "language_info": {
   "codemirror_mode": {
    "name": "ipython",
    "version": 3
   },
   "file_extension": ".py",
   "mimetype": "text/x-python",
   "name": "python",
   "nbconvert_exporter": "python",
   "pygments_lexer": "ipython3",
   "version": "3.11.3"
  },
  "orig_nbformat": 4
 },
 "nbformat": 4,
 "nbformat_minor": 2
}
