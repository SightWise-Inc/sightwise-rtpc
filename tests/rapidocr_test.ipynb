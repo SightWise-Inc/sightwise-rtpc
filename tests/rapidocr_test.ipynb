{
 "cells": [
  {
   "cell_type": "code",
   "execution_count": 1,
   "metadata": {},
   "outputs": [],
   "source": [
    "import cv2\n",
    "from rapidocr_onnxruntime import RapidOCR\n",
    "# from rapidocr_openvino import RapidOCR\n",
    "from pathlib import Path"
   ]
  },
  {
   "cell_type": "code",
   "execution_count": 2,
   "metadata": {},
   "outputs": [],
   "source": [
    "# img_path = '../test_images/test_television2.jpg'\n",
    "img_path = '../test_images/_ocr/demodemo1.jpg'"
   ]
  },
  {
   "cell_type": "code",
   "execution_count": 7,
   "metadata": {},
   "outputs": [
    {
     "name": "stderr",
     "output_type": "stream",
     "text": [
      "c:\\Program Files\\Python310\\lib\\site-packages\\rapidocr_onnxruntime\\utils.py:62: RuntimeWarning: CUDAExecutionProvider is not avaiable for current env, the inference part is automatically shifted to be executed under CPUExecutionProvider.\n",
      "Please ensure the installed onnxruntime-gpu version matches your cuda and cudnn version, you can check their relations from the offical web site: https://onnxruntime.ai/docs/execution-providers/CUDA-ExecutionProvider.html\n",
      "  warnings.warn(\n"
     ]
    }
   ],
   "source": [
    "# rapid_ocr = RapidOCR()\n",
    "rapid_ocr = RapidOCR(config_path='./custom.yaml')"
   ]
  },
  {
   "cell_type": "code",
   "execution_count": 10,
   "metadata": {},
   "outputs": [
    {
     "name": "stdout",
     "output_type": "stream",
     "text": [
      "[4.3132171630859375, 0.011470317840576172, 0.11708569526672363]\n"
     ]
    }
   ],
   "source": [
    "# result, elapse = rapid_ocr(img_path)\n",
    "\n",
    "img = cv2.imread(img_path)\n",
    "result, elapse = rapid_ocr(img)\n",
    "\n",
    "# with open(img_path, 'rb') as f:\n",
    "#     img = f.read()\n",
    "# result, elapse = rapid_ocr(img)\n",
    "\n",
    "# result, elapse = rapid_ocr(Path(img_path))\n",
    "# print(result)\n",
    "\n",
    "print(elapse)"
   ]
  },
  {
   "cell_type": "code",
   "execution_count": 8,
   "metadata": {},
   "outputs": [],
   "source": [
    "# import onnxruntime as ort\n",
    "\n",
    "# providers = ort.get_available_providers()\n",
    "# print(providers)"
   ]
  },
  {
   "cell_type": "code",
   "execution_count": null,
   "metadata": {},
   "outputs": [],
   "source": []
  }
 ],
 "metadata": {
  "kernelspec": {
   "display_name": "Python 3",
   "language": "python",
   "name": "python3"
  },
  "language_info": {
   "codemirror_mode": {
    "name": "ipython",
    "version": 3
   },
   "file_extension": ".py",
   "mimetype": "text/x-python",
   "name": "python",
   "nbconvert_exporter": "python",
   "pygments_lexer": "ipython3",
   "version": "3.10.11"
  },
  "orig_nbformat": 4
 },
 "nbformat": 4,
 "nbformat_minor": 2
}
